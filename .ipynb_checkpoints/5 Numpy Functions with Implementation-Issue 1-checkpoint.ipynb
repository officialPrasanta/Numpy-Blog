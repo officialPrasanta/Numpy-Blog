{
 "cells": [
  {
   "cell_type": "code",
   "execution_count": 1,
   "metadata": {},
   "outputs": [],
   "source": [
    "import numpy as np"
   ]
  },
  {
   "cell_type": "markdown",
   "metadata": {},
   "source": [
    "## Function 1 - numpy.linalg.det"
   ]
  },
  {
   "cell_type": "markdown",
   "metadata": {},
   "source": [
    "**Example**"
   ]
  },
  {
   "cell_type": "code",
   "execution_count": 2,
   "metadata": {},
   "outputs": [
    {
     "name": "stdout",
     "output_type": "stream",
     "text": [
      "-306.0\n"
     ]
    }
   ],
   "source": [
    "A = np.array([\n",
    "    [6, 1, 1],\n",
    "     [4, -2, 5],\n",
    "     [2, 8, 7]])\n",
    "det = np.linalg.det(A)\n",
    "print(det)"
   ]
  },
  {
   "cell_type": "markdown",
   "metadata": {},
   "source": [
    "**Implementation 1**"
   ]
  },
  {
   "cell_type": "code",
   "execution_count": 3,
   "metadata": {},
   "outputs": [
    {
     "name": "stdout",
     "output_type": "stream",
     "text": [
      "area: 2.50\n"
     ]
    }
   ],
   "source": [
    "# Implementation 1\n",
    "# Find area of triangle\n",
    "\n",
    "def find_triangular_area(pt1, pt2, pt3):\n",
    "    arr = np.array([pt1, pt2, pt3])      # creates a 3d array\n",
    "    return np.linalg.det(arr)/2\n",
    "p1 = [3, 3, 1]\n",
    "p2 = [-3, 2, -1]\n",
    "p3 = [8, 6, 3]\n",
    "area = find_triangular_area(p1, p2, p3)\n",
    "print(f'area: {area:.2f}')"
   ]
  },
  {
   "cell_type": "markdown",
   "metadata": {},
   "source": [
    "## Function2 - numpy.linalg.norm"
   ]
  },
  {
   "cell_type": "markdown",
   "metadata": {},
   "source": [
    "**Example**"
   ]
  },
  {
   "cell_type": "code",
   "execution_count": 4,
   "metadata": {},
   "outputs": [
    {
     "name": "stdout",
     "output_type": "stream",
     "text": [
      "distance from origin:  5.0\n"
     ]
    }
   ],
   "source": [
    "a = np.array([-3, 4])\n",
    "dist = np.linalg.norm(a)\n",
    "print('distance from origin: ', dist)"
   ]
  },
  {
   "cell_type": "markdown",
   "metadata": {},
   "source": [
    "**Implementation 2**"
   ]
  },
  {
   "cell_type": "code",
   "execution_count": 5,
   "metadata": {},
   "outputs": [
    {
     "name": "stdout",
     "output_type": "stream",
     "text": [
      "distance between v1[-1, 6, 6] and v2[-4, 9, 6] is: 4.24\n"
     ]
    }
   ],
   "source": [
    "# Implementation 2\n",
    "# Distance between two points\n",
    "\n",
    "def cal_distance(v1, v2):\n",
    "    v1 = np.array([v1])\n",
    "    v2 = np.array([v2])\n",
    "    diff = v1 - v2\n",
    "    return np.linalg.norm(diff)\n",
    "\n",
    "dist = cal_distance([-1, 6, 6], [-4, 9, 6])\n",
    "print(f'distance between v1[-1, 6, 6] and v2[-4, 9, 6] is: {dist:.2f}')"
   ]
  },
  {
   "cell_type": "markdown",
   "metadata": {},
   "source": [
    "## Function 3 - numpy.dot"
   ]
  },
  {
   "cell_type": "markdown",
   "metadata": {},
   "source": [
    "**Example**"
   ]
  },
  {
   "cell_type": "code",
   "execution_count": 6,
   "metadata": {},
   "outputs": [
    {
     "name": "stdout",
     "output_type": "stream",
     "text": [
      "17\n"
     ]
    }
   ],
   "source": [
    "a = np.array([1, 3, 4])\n",
    "b = np.array([4, 3, 1])\n",
    "\n",
    "cp = np.dot(a, b)\n",
    "print(cp)"
   ]
  },
  {
   "cell_type": "markdown",
   "metadata": {},
   "source": [
    "**Implementation 3**"
   ]
  },
  {
   "cell_type": "code",
   "execution_count": 7,
   "metadata": {},
   "outputs": [
    {
     "name": "stdout",
     "output_type": "stream",
     "text": [
      "v1[-1, 6, 6] and v2[-4, 9, 6] are perpendicular: True\n"
     ]
    }
   ],
   "source": [
    "# Implementation 3\n",
    "# Find if two given vectors are perpendicular or not\n",
    "\n",
    "def is_perpendicular(v1, v2):\n",
    "    v1 = np.array(v1)\n",
    "    v2 = np.array(v2)\n",
    "    if np.dot(v1, v2) == 0:\n",
    "        return True \n",
    "    else:\n",
    "        return False\n",
    "\n",
    "\n",
    "dot_product = is_perpendicular([2, -3, 5], [-2, 2, 2])\n",
    "print(f'v1[-1, 6, 6] and v2[-4, 9, 6] are perpendicular: {dot_product}')"
   ]
  },
  {
   "cell_type": "markdown",
   "metadata": {},
   "source": [
    "## Function 4 - numpy.angle"
   ]
  },
  {
   "cell_type": "markdown",
   "metadata": {},
   "source": [
    "**Example**"
   ]
  },
  {
   "cell_type": "code",
   "execution_count": 38,
   "metadata": {},
   "outputs": [
    {
     "name": "stdout",
     "output_type": "stream",
     "text": [
      "45.0\n"
     ]
    }
   ],
   "source": [
    "complx_no = 2+2j  # a complex number\n",
    "\n",
    "angle = np.angle(complx_no, deg=True)\n",
    "print(angle)"
   ]
  },
  {
   "cell_type": "markdown",
   "metadata": {},
   "source": [
    "**Implementation 4**"
   ]
  },
  {
   "cell_type": "code",
   "execution_count": 44,
   "metadata": {},
   "outputs": [
    {
     "name": "stdout",
     "output_type": "stream",
     "text": [
      "the angle betw.(3+1j) and (4-2j) is: 45.00\n"
     ]
    }
   ],
   "source": [
    "# Implementation 4\n",
    "# Evaluating angle between two complex numbers\n",
    "\n",
    "\n",
    "def find_cmplx_angle(cmplx_num1, cmplx_num2):\n",
    "    cmplx_list = [cmplx_num1, cmplx_num2]\n",
    "    cmplx_angle = np.angle(cmplx_list, deg=True)\n",
    "    return cmplx_angle[0] - cmplx_angle[1]\n",
    "\n",
    "cmplx_num1 = 3+1j\n",
    "cmplx_num2 = 4-2j\n",
    "res = find_cmplx_angle(cmplx_num1, cmplx_num2)\n",
    "print(f'the angle betw.{cmplx_num1} and {cmplx_num2} is: {res:.2f}')\n"
   ]
  },
  {
   "cell_type": "code",
   "execution_count": null,
   "metadata": {},
   "outputs": [],
   "source": []
  }
 ],
 "metadata": {
  "kernelspec": {
   "display_name": "Python 3",
   "language": "python",
   "name": "python3"
  },
  "language_info": {
   "codemirror_mode": {
    "name": "ipython",
    "version": 3
   },
   "file_extension": ".py",
   "mimetype": "text/x-python",
   "name": "python",
   "nbconvert_exporter": "python",
   "pygments_lexer": "ipython3",
   "version": "3.6.9"
  }
 },
 "nbformat": 4,
 "nbformat_minor": 4
}
